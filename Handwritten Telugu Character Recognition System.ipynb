{
 "cells": [
  {
   "cell_type": "markdown",
   "id": "1321abe9",
   "metadata": {},
   "source": [
    "#           *HandWritten Telugu Character Recognition"
   ]
  },
  {
   "cell_type": "markdown",
   "id": "74a37808",
   "metadata": {},
   "source": [
    "#                  using Convolutional Neural Network\n",
    "\n",
    "       By Team Analytiacal Eyes\n",
    "            Team members -   Rahul Sharma\n",
    "                             K.mahesh\n",
    "                             Mohammad Mazid\n",
    "                             P.Satya\n",
    "                             Marthala Guruchakradhar Reddy"
   ]
  },
  {
   "cell_type": "markdown",
   "id": "1d38c81e",
   "metadata": {},
   "source": [
    "#         *under the Guidence of - Mr. R. Raja Subramanian*"
   ]
  },
  {
   "cell_type": "code",
   "execution_count": null,
   "id": "9949a3a0",
   "metadata": {},
   "outputs": [],
   "source": []
  },
  {
   "cell_type": "markdown",
   "id": "ac5fc6e1",
   "metadata": {},
   "source": [
    "# Project Implementation"
   ]
  },
  {
   "cell_type": "code",
   "execution_count": null,
   "id": "c91fc35f",
   "metadata": {},
   "outputs": [],
   "source": []
  },
  {
   "cell_type": "code",
   "execution_count": null,
   "id": "6df9960b",
   "metadata": {},
   "outputs": [],
   "source": [
    "# project is divide into 2 parts\n",
    "\n",
    "     #  1 - Building the Deep Learning Model\n",
    "     #  2 - building the userinterface "
   ]
  },
  {
   "cell_type": "code",
   "execution_count": null,
   "id": "3365ed21",
   "metadata": {},
   "outputs": [],
   "source": []
  },
  {
   "cell_type": "markdown",
   "id": "6dfd7949",
   "metadata": {},
   "source": [
    "# *Building The Deep learning Model*"
   ]
  },
  {
   "cell_type": "code",
   "execution_count": null,
   "id": "6a6cceb0",
   "metadata": {},
   "outputs": [],
   "source": []
  },
  {
   "cell_type": "code",
   "execution_count": null,
   "id": "b8af2103",
   "metadata": {},
   "outputs": [],
   "source": []
  },
  {
   "cell_type": "code",
   "execution_count": 2,
   "id": "c1a3c1c6",
   "metadata": {},
   "outputs": [],
   "source": [
    "# importing the Required Packages and Libraries for loading the Dataset\n",
    "\n",
    "import os\n",
    "import cv2\n",
    "import numpy as np"
   ]
  },
  {
   "cell_type": "markdown",
   "id": "3fac2656",
   "metadata": {},
   "source": [
    "# *Loading The Dataset"
   ]
  },
  {
   "cell_type": "code",
   "execution_count": 3,
   "id": "99445725",
   "metadata": {},
   "outputs": [],
   "source": [
    "path=r\"C:/Users/lenovo/Desktop/IEEE_TELUGU_dataset\"\n",
    "images=[]\n",
    "classNo=[]\n",
    "testRatio=0.2\n",
    "valRatio=0.2\n",
    "imgDimension=(50,50,3)"
   ]
  },
  {
   "cell_type": "code",
   "execution_count": 4,
   "id": "8abaae36",
   "metadata": {},
   "outputs": [
    {
     "name": "stdout",
     "output_type": "stream",
     "text": [
      "Importing Classes..........\n",
      "0\n",
      "1\n",
      "2\n",
      "3\n",
      "4\n",
      "5\n",
      "6\n",
      "7\n",
      "8\n",
      "9\n",
      "10\n",
      "11\n",
      "12\n",
      "13\n",
      "14\n",
      "15\n"
     ]
    }
   ],
   "source": [
    "myList=os.listdir(path)\n",
    "\n",
    "numOfClasses=len(myList)\n",
    "\n",
    "print(\"Importing Classes..........\")\n",
    "for x in range(0, numOfClasses):\n",
    "    myPicList=os.listdir(path+\"/\"+str(x))\n",
    "    for y in myPicList:\n",
    "        curImg=cv2.imread(path+\"/\"+str(x)+\"/\"+y)\n",
    "        curImg=cv2.resize(curImg,(imgDimension[0],imgDimension[1]))\n",
    "        images.append(curImg)\n",
    "        classNo.append(x)\n",
    "    print(x)\n",
    "\n",
    "images=np.array(images)\n",
    "classNo=np.array(classNo)"
   ]
  },
  {
   "cell_type": "markdown",
   "id": "27c253e6",
   "metadata": {},
   "source": [
    "# *Splitting the Dataset into Train , Test & validation"
   ]
  },
  {
   "cell_type": "code",
   "execution_count": 5,
   "id": "5fabb58d",
   "metadata": {},
   "outputs": [],
   "source": [
    "from sklearn.model_selection import train_test_split\n",
    "\n",
    "x_train, x_test, y_train, y_test=train_test_split(images, classNo, test_size=testRatio)\n",
    "x_train, x_validation, y_train, y_validation=train_test_split(x_train, y_train, test_size=valRatio)"
   ]
  },
  {
   "cell_type": "code",
   "execution_count": 6,
   "id": "0af28de8",
   "metadata": {},
   "outputs": [
    {
     "name": "stdout",
     "output_type": "stream",
     "text": [
      "(30720, 50, 50, 3) (30720,)\n",
      "(9600, 50, 50, 3) (9600,)\n"
     ]
    }
   ],
   "source": [
    "print(x_train.shape,y_train.shape)\n",
    "print(x_test.shape,y_test.shape)\n"
   ]
  },
  {
   "cell_type": "markdown",
   "id": "b2faf5f2",
   "metadata": {},
   "source": [
    "# *Visualizing the Dataset......."
   ]
  },
  {
   "cell_type": "code",
   "execution_count": 7,
   "id": "c8af7889",
   "metadata": {},
   "outputs": [
    {
     "data": {
      "image/png": "[encoded data removed]",
      "text/plain": [
       "<Figure size 720x360 with 1 Axes>"
      ]
     },
     "metadata": {
      "needs_background": "light"
     },
     "output_type": "display_data"
    }
   ],
   "source": [
    "import matplotlib.pyplot as plt\n",
    "\n",
    "\n",
    "numOfSample=[]\n",
    "\n",
    "for x in range(0,numOfClasses):\n",
    "\tnumOfSample.append(len(np.where(y_train==x)[0]))\n",
    "\n",
    "\n",
    "plt.figure(figsize=(10,5))\n",
    "plt.bar(range(0, numOfClasses),numOfSample)\n",
    "plt.title(\"Bar Plot of Classes & Images\")\n",
    "plt.xlabel(\"No Of Classes\")\n",
    "plt.ylabel(\"No of Images\")\n",
    "plt.show()"
   ]
  },
  {
   "cell_type": "markdown",
   "id": "3737f217",
   "metadata": {},
   "source": [
    "# *Preprocessing the Image Dataset"
   ]
  },
  {
   "cell_type": "code",
   "execution_count": 8,
   "id": "49d06ace",
   "metadata": {},
   "outputs": [],
   "source": [
    "def preprocessing(img):\n",
    "    #img=np.astype(\"uint8\")\n",
    "    img=cv2.cvtColor(img, cv2.COLOR_BGR2GRAY)\n",
    "    _, img = cv2.threshold(img, 170, 255, cv2.THRESH_BINARY)\n",
    "    img=cv2.equalizeHist(img)\n",
    "    img=img/255\n",
    "    return img\n",
    "\n",
    "\n",
    "x_train=np.array(list(map(preprocessing, x_train)))\n",
    "x_test=np.array(list(map(preprocessing, x_test)))\n",
    "x_validation=np.array(list(map(preprocessing, x_validation)))"
   ]
  },
  {
   "cell_type": "code",
   "execution_count": 10,
   "id": "1bbed4c6",
   "metadata": {},
   "outputs": [],
   "source": [
    "\n",
    "\n",
    "x_train=x_train.reshape(x_train.shape[0], x_train.shape[1], x_train.shape[2],1)\n",
    "x_test=x_test.reshape(x_test.shape[0], x_test.shape[1], x_test.shape[2],1)\n",
    "x_validation=x_validation.reshape(x_validation.shape[0], x_validation.shape[1], x_validation.shape[2],1)\n",
    "\n",
    "\n",
    "dataGen=ImageDataGenerator(\n",
    "    width_shift_range=0.1,\n",
    "    height_shift_range=0.1,\n",
    "    zoom_range=0.2,\n",
    "    shear_range=0.1,\n",
    "    rotation_range=10)\n",
    "\n",
    "dataGen.fit(x_train)\n",
    "\n",
    "y_train=to_categorical(y_train, numOfClasses)\n",
    "y_test=to_categorical(y_test, numOfClasses)\n",
    "y_validation=to_categorical(y_validation, numOfClasses)"
   ]
  },
  {
   "cell_type": "code",
   "execution_count": 61,
   "id": "c6485c4f",
   "metadata": {},
   "outputs": [],
   "source": [
    "# *Loading the packages and Libraries For Building the CNN deep Learning Model\n",
    "\n",
    "import tensorflow as tf\n",
    "from tensorflow import *\n",
    "from keras.preprocessing.image import ImageDataGenerator\n",
    "from keras.utils.np_utils import to_categorical\n",
    "from keras.models import Sequential\n",
    "from tensorflow.keras.optimizers import Adam\n",
    "from keras.layers import Conv2D, Dense, MaxPooling2D, Activation, Dropout, Flatten"
   ]
  },
  {
   "cell_type": "code",
   "execution_count": 11,
   "id": "06931bbc",
   "metadata": {},
   "outputs": [
    {
     "name": "stdout",
     "output_type": "stream",
     "text": [
      "Model: \"sequential\"\n",
      "_________________________________________________________________\n",
      "Layer (type)                 Output Shape              Param #   \n",
      "=================================================================\n",
      "conv2d (Conv2D)              (None, 48, 48, 128)       1280      \n",
      "_________________________________________________________________\n",
      "conv2d_1 (Conv2D)            (None, 46, 46, 64)        73792     \n",
      "_________________________________________________________________\n",
      "max_pooling2d (MaxPooling2D) (None, 23, 23, 64)        0         \n",
      "_________________________________________________________________\n",
      "conv2d_2 (Conv2D)            (None, 21, 21, 64)        36928     \n",
      "_________________________________________________________________\n",
      "conv2d_3 (Conv2D)            (None, 19, 19, 64)        36928     \n",
      "_________________________________________________________________\n",
      "max_pooling2d_1 (MaxPooling2 (None, 9, 9, 64)          0         \n",
      "_________________________________________________________________\n",
      "conv2d_4 (Conv2D)            (None, 7, 7, 256)         147712    \n",
      "_________________________________________________________________\n",
      "max_pooling2d_2 (MaxPooling2 (None, 3, 3, 256)         0         \n",
      "_________________________________________________________________\n",
      "dropout (Dropout)            (None, 3, 3, 256)         0         \n",
      "_________________________________________________________________\n",
      "flatten (Flatten)            (None, 2304)              0         \n",
      "_________________________________________________________________\n",
      "dense (Dense)                (None, 512)               1180160   \n",
      "_________________________________________________________________\n",
      "dropout_1 (Dropout)          (None, 512)               0         \n",
      "_________________________________________________________________\n",
      "dense_1 (Dense)              (None, 512)               262656    \n",
      "_________________________________________________________________\n",
      "dropout_2 (Dropout)          (None, 512)               0         \n",
      "_________________________________________________________________\n",
      "dense_2 (Dense)              (None, 64)                32832     \n",
      "_________________________________________________________________\n",
      "dense_3 (Dense)              (None, 32)                2080      \n",
      "_________________________________________________________________\n",
      "dense_4 (Dense)              (None, 16)                528       \n",
      "=================================================================\n",
      "Total params: 1,774,896\n",
      "Trainable params: 1,774,896\n",
      "Non-trainable params: 0\n",
      "_________________________________________________________________\n"
     ]
    }
   ],
   "source": [
    "# CNN Model\n",
    "\n",
    "model = Sequential()\n",
    "model.add(Conv2D(128, kernel_size=(3, 3),activation='relu',input_shape=(50,50,1)))\n",
    "model.add(Conv2D(64, (3, 3), activation='relu'))\n",
    "model.add(MaxPooling2D(pool_size=(2, 2)))\n",
    "model.add(Conv2D(64, (3, 3), activation='relu'))\n",
    "model.add(Conv2D(64, (3, 3), activation='relu'))\n",
    "model.add(MaxPooling2D(pool_size=(2, 2)))\n",
    "model.add(Conv2D(256,(3,3),activation=\"relu\"))\n",
    "model.add(MaxPooling2D(pool_size=(2,2)))\n",
    "model.add(Dropout(0.2))\n",
    "model.add(Flatten())\n",
    "model.add(Dense(512,activation=\"relu\"))\n",
    "model.add(Dropout(0.5))\n",
    "model.add(Dense(512,activation=\"relu\"))\n",
    "model.add(Dropout(0.4))\n",
    "model.add(Dense(64,activation=\"relu\"))\n",
    "model.add(Dense(32,activation=\"sigmoid\"))\n",
    "model.add(Dense(16,activation=\"softmax\"))\n",
    "model.summary()\n",
    "\n",
    "\n",
    "\n",
    "\n",
    "\n",
    "\n",
    "\n",
    " "
   ]
  },
  {
   "cell_type": "code",
   "execution_count": 15,
   "id": "478d8bc8",
   "metadata": {},
   "outputs": [],
   "source": [
    "model.compile(loss=\"categorical_crossentropy\",optimizer=tf.keras.optimizers.Adam(learning_rate=0.001)\n",
    ",metrics=[\"accuracy\"])"
   ]
  },
  {
   "cell_type": "code",
   "execution_count": 19,
   "id": "8d823779",
   "metadata": {},
   "outputs": [
    {
     "name": "stdout",
     "output_type": "stream",
     "text": [
      "Epoch 1/10\n",
      "960/960 [==============================] - 2667s 3s/step - loss: 2.5233 - accuracy: 0.1965 - val_loss: 2.1018 - val_accuracy: 0.3328\n",
      "Epoch 2/10\n",
      "960/960 [==============================] - 2888s 3s/step - loss: 1.9518 - accuracy: 0.3880 - val_loss: 1.4996 - val_accuracy: 0.5072\n",
      "Epoch 3/10\n",
      "960/960 [==============================] - 3133s 3s/step - loss: 1.5798 - accuracy: 0.4922 - val_loss: 1.2268 - val_accuracy: 0.6017\n",
      "Epoch 4/10\n",
      "960/960 [==============================] - 2165s 2s/step - loss: 1.3908 - accuracy: 0.5465 - val_loss: 1.0911 - val_accuracy: 0.6456\n",
      "Epoch 5/10\n",
      "960/960 [==============================] - 2249s 2s/step - loss: 1.2737 - accuracy: 0.5818 - val_loss: 0.9533 - val_accuracy: 0.6820\n",
      "Epoch 6/10\n",
      "960/960 [==============================] - 2223s 2s/step - loss: 1.2002 - accuracy: 0.6068 - val_loss: 0.8876 - val_accuracy: 0.7104\n",
      "Epoch 7/10\n",
      "960/960 [==============================] - 2258s 2s/step - loss: 1.1370 - accuracy: 0.6275 - val_loss: 0.8165 - val_accuracy: 0.7339\n",
      "Epoch 8/10\n",
      "960/960 [==============================] - 2078s 2s/step - loss: 1.0865 - accuracy: 0.6438 - val_loss: 0.7876 - val_accuracy: 0.7490\n",
      "Epoch 9/10\n",
      "960/960 [==============================] - 2048s 2s/step - loss: 1.0429 - accuracy: 0.6591 - val_loss: 0.7391 - val_accuracy: 0.7561\n",
      "Epoch 10/10\n",
      "960/960 [==============================] - 2039s 2s/step - loss: 1.0128 - accuracy: 0.6646 - val_loss: 0.7354 - val_accuracy: 0.7533\n"
     ]
    }
   ],
   "source": [
    "history=model.fit(dataGen.flow(x_train, y_train),\n",
    "    batch_size = 96,\n",
    "\tepochs=10,\n",
    "\n",
    "\tvalidation_data=(x_validation,y_validation))\n",
    "\n",
    "model.save(\"Telugu_Character_Recognition_System33.h5\")\n",
    "print(\"Model Trained & saved Successfully\")\n"
   ]
  },
  {
   "cell_type": "code",
   "execution_count": 20,
   "id": "1da78f5c",
   "metadata": {},
   "outputs": [
    {
     "name": "stdout",
     "output_type": "stream",
     "text": [
      "Model Trained & saved Successfully\r\n"
     ]
    }
   ],
   "source": [
    "model.save(\"Telugu_Character_Recognition_System33.h5\")\n",
    "print(\"Model Trained & saved Successfully\")"
   ]
  },
  {
   "cell_type": "code",
   "execution_count": 21,
   "id": "bd436c95",
   "metadata": {},
   "outputs": [
    {
     "name": "stdout",
     "output_type": "stream",
     "text": [
      "300/300 [==============================] - 155s 514ms/step - loss: 0.7221 - accuracy: 0.7605\n"
     ]
    },
    {
     "data": {
      "text/plain": [
       "[0.7220911979675293, 0.7605208158493042]"
      ]
     },
     "execution_count": 21,
     "metadata": {},
     "output_type": "execute_result"
    }
   ],
   "source": [
    "model.evaluate(x_test,y_test)"
   ]
  },
  {
   "cell_type": "code",
   "execution_count": 22,
   "id": "46467449",
   "metadata": {},
   "outputs": [
    {
     "name": "stdout",
     "output_type": "stream",
     "text": [
      "960/960 [==============================] - 504s 525ms/step - loss: 0.6681 - accuracy: 0.7822\n"
     ]
    },
    {
     "data": {
      "text/plain": [
       "[0.6681011319160461, 0.7821614742279053]"
      ]
     },
     "execution_count": 22,
     "metadata": {},
     "output_type": "execute_result"
    }
   ],
   "source": [
    "model.evaluate(x_train,y_train)"
   ]
  },
  {
   "cell_type": "code",
   "execution_count": 36,
   "id": "3a34ee0a",
   "metadata": {},
   "outputs": [
    {
     "name": "stdout",
     "output_type": "stream",
     "text": [
      "240/240 [==============================] - 125s 516ms/step - loss: 0.7354 - accuracy: 0.7533\n"
     ]
    },
    {
     "data": {
      "text/plain": [
       "[0.7353927493095398, 0.7532551884651184]"
      ]
     },
     "execution_count": 36,
     "metadata": {},
     "output_type": "execute_result"
    }
   ],
   "source": [
    "model.evaluate(x_validation,y_validation)"
   ]
  },
  {
   "cell_type": "code",
   "execution_count": 33,
   "id": "54cfb405",
   "metadata": {},
   "outputs": [
    {
     "data": {
      "text/plain": [
       "Text(0, 0.5, 'Accuracy')"
      ]
     },
     "execution_count": 33,
     "metadata": {},
     "output_type": "execute_result"
    },
    {
     "data": {
      "image/png": "[encoded data removed]",
      "text/plain": [
       "<Figure size 648x360 with 1 Axes>"
      ]
     },
     "metadata": {
      "needs_background": "light"
     },
     "output_type": "display_data"
    }
   ],
   "source": [
    "import matplotlib.pyplot as plt\n",
    "import seaborn as sns\n",
    "sns.set_context('talk')\n",
    "plt.figure(figsize=(9,5))\n",
    "plt.title(\"model Accuracy\")\n",
    "#plt.plot(range(0,5),hist.history[\"accuracy\"])\n",
    "plt.plot(range(0,10),history.history[\"val_accuracy\"],linestyle=\"--\",label=\"validation accuracy\")\n",
    "plt.plot(range(0,10),history.history[\"accuracy\"],label=\"training accuracy\",color=\"red\")\n",
    "plt.xlabel(\"Epochs\")\n",
    "plt.legend()\n",
    "plt.ylabel(\"Accuracy\")"
   ]
  },
  {
   "cell_type": "code",
   "execution_count": 34,
   "id": "f6d0345e",
   "metadata": {},
   "outputs": [
    {
     "data": {
      "text/plain": [
       "Text(0, 0.5, 'Accuracy')"
      ]
     },
     "execution_count": 34,
     "metadata": {},
     "output_type": "execute_result"
    },
    {
     "data": {
      "image/png": "[encoded data removed]",
      "text/plain": [
       "<Figure size 648x360 with 1 Axes>"
      ]
     },
     "metadata": {
      "needs_background": "light"
     },
     "output_type": "display_data"
    }
   ],
   "source": [
    "import matplotlib.pyplot as plt\n",
    "import seaborn as sns\n",
    "sns.set_context('talk')\n",
    "plt.figure(figsize=(9,5))\n",
    "plt.title(\"model Loss\")\n",
    "#plt.plot(range(0,5),hist.history[\"accuracy\"])\n",
    "plt.plot(range(0,10),history.history[\"val_loss\"],linestyle=\"--\",label=\"validation loss\")\n",
    "plt.plot(range(0,10),history.history[\"loss\"],label=\"training loss\",color=\"red\")\n",
    "plt.xlabel(\"Epochs\")\n",
    "plt.legend()\n",
    "plt.ylabel(\"Accuracy\")"
   ]
  },
  {
   "cell_type": "code",
   "execution_count": null,
   "id": "4d746da9",
   "metadata": {},
   "outputs": [],
   "source": []
  },
  {
   "cell_type": "code",
   "execution_count": null,
   "id": "2edc9f65",
   "metadata": {},
   "outputs": [],
   "source": []
  },
  {
   "cell_type": "code",
   "execution_count": null,
   "id": "04b57fe5",
   "metadata": {},
   "outputs": [],
   "source": []
  },
  {
   "cell_type": "markdown",
   "id": "34b7c5ca",
   "metadata": {},
   "source": [
    "# *User interface "
   ]
  },
  {
   "cell_type": "code",
   "execution_count": 1,
   "id": "ea0ce4e0",
   "metadata": {},
   "outputs": [],
   "source": [
    "# importing all the Packages and Libraries\n",
    "\n",
    "import os\n",
    "from tkinter import *\n",
    "import PIL\n",
    "from PIL import ImageGrab\n",
    "\n",
    "import warnings\n",
    "warnings.filterwarnings('ignore')\n",
    "import numpy as np\n",
    "from PIL import Image, ImageEnhance\n",
    "import cv2\n",
    "from keras.models import load_model"
   ]
  },
  {
   "cell_type": "code",
   "execution_count": 2,
   "id": "5def6304",
   "metadata": {},
   "outputs": [],
   "source": [
    "def preprocessing(img):\n",
    "    img=img.astype(\"uint8\")\n",
    "    img=cv2.cvtColor(img, cv2.COLOR_BGR2GRAY)\n",
    "    img=cv2.equalizeHist(img)\n",
    "    img = img/255\n",
    "    return img "
   ]
  },
  {
   "cell_type": "code",
   "execution_count": 3,
   "id": "5cfbf050",
   "metadata": {},
   "outputs": [],
   "source": [
    "def get_className(classNo):\n",
    "    if classNo==0:\n",
    "        return \"అ -A\"\n",
    "    elif classNo==1:\n",
    "        return \"ఆ -AA\"\n",
    "    elif classNo==2:\n",
    "            return \"ఇ -I\"\n",
    "    elif classNo==3:\n",
    "        return \"ఈ -EE\"\n",
    "    elif classNo==4:\n",
    "        return \"అఉ – U\"\n",
    "    elif classNo==5:\n",
    "        return \"ఊ- UU\"\n",
    "    elif classNo==6:\n",
    "        return \"ఋ – RU\"\n",
    "    elif classNo==7:\n",
    "        return \"ౠ -ROO\"\n",
    "    elif classNo==8:\n",
    "        return \"ఎ – E\"\n",
    "    elif classNo==9:\n",
    "        return \"అః – AHAA\"\n",
    "    elif classNo==10:\n",
    "        return \"ఐ – AI/AY\"\n",
    "    elif classNo==11:\n",
    "        return \"ఒ – O\"\n",
    "    elif classNo==12:\n",
    "        return \"ఓ – OO\"\n",
    "    elif classNo==13:\n",
    "        return \"ఔ – AU\"\n",
    "    elif classNo==14:\n",
    "        return \"అం – AUM\"\n",
    "    elif classNo==15:\n",
    "        return \"ఏ – YE\"\n",
    "    else :\n",
    "        return \"Did'nt Recognised the character .. please Draw again\""
   ]
  },
  {
   "cell_type": "code",
   "execution_count": 9,
   "id": "a2c5095d",
   "metadata": {},
   "outputs": [],
   "source": [
    "class main:\n",
    "    def __init__(self, master):\n",
    "        self.master = master\n",
    "        self.res = \"\"\n",
    "        self.pre = [None, None]\n",
    "        self.bs = 8.5\n",
    "        self.c = Canvas(self.master,bd=8,relief=\"ridge\", width=325, height=450, bg='white')\n",
    "        self.c.pack(side=LEFT)\n",
    "        f1 = Frame(self.master, padx=5, pady=5)\n",
    "        Label(f1,text=\"*********************************************************************************************\",fg=\"green\",font=(\"\",15)).pack()\n",
    "        Label(f1,text=\"Handwritten Telugu Character Recognition System\",fg=\"blue\",font=(\"\",25,\"bold\")).pack(pady=10)\n",
    "        Label(f1,text=\"Developed by Team - Analytical Eyes\",fg=\"black\",font=(\"\",20)).pack()\n",
    "        Label(f1,text=\"P.satya ,  Rahul sharma,  K.Mahesh, Mohammad mazid, M .Guruchakradhar Reddy\",fg=\"green\",font=(\"\",20)).pack()\n",
    "        Label(f1,text=\"                                             \",fg=\"red\",font=(\"\",20)).pack()\n",
    "        Label(f1,text=\" under the Guidance of Mr. R Raja Subramanian\",fg=\"red\",font=(\"\",20)).pack()\n",
    "        Label(f1,text=\"<<<< Draw On The Canvas Alongside\",fg=\"black\",font=(\"\",15,\"bold\")).pack()\n",
    "        self.pr = Label(f1,text=\"Prediction: None\",fg=\"blue\",font=(\"\",45,\"bold\"))\n",
    "        self.pr.pack(pady=20)\n",
    "        \n",
    "        Button(f1,font=(\"\",15),fg=\"white\",bg=\"red\" ,text=\"Clear Canvas\", command=self.clear).pack(side=BOTTOM)\n",
    "\n",
    "        f1.pack(side=RIGHT,fill=Y)\n",
    "        self.c.bind(\"<Button-1>\", self.putPoint)\n",
    "        self.c.bind(\"<ButtonRelease-1>\",self.getResult)\n",
    "        self.c.bind(\"<B1-Motion>\", self.paint)\n",
    "    \n",
    "    def getResult(self,e):\n",
    "        x = self.master.winfo_rootx() + self.c.winfo_x()\n",
    "        y = self.master.winfo_rooty() + self.c.winfo_y()\n",
    "        x1 = x + self.c.winfo_width()\n",
    "        y1 = y + self.c.winfo_height()\n",
    "        img = PIL.ImageGrab.grab()\n",
    "        img = img.crop((x, y, x1, y1))\n",
    "        img.save(\"dist.png\")\n",
    "        imgPath=\"dist.png\"\n",
    "        model=load_model(\"Telugu_Character_Recognition_System33.h5\")\n",
    "        img=cv2.imread(imgPath)\n",
    "        img=np.asarray(img)\n",
    "        img=cv2.resize(img, (50,50))\n",
    "        img=preprocessing(img)\n",
    "        img=img.reshape(1, 50, 50, 1)\n",
    "    \n",
    "        \n",
    "        prediction = model.predict(img)\n",
    "        classindex = np.argmax(prediction, axis = 1)\n",
    "        \n",
    "\n",
    "        self.res=str(get_className(classindex))\n",
    "        self.pr['text'] = \"Prediction: \" + self.res\n",
    "\n",
    "    def clear(self):\n",
    "        self.c.delete('all')\n",
    "\n",
    "    def putPoint(self, e):\n",
    "        self.c.create_oval(e.x - self.bs, e.y - self.bs, e.x + self.bs, e.y + self.bs, outline='black', fill='black')\n",
    "        self.pre = [e.x, e.y]\n",
    "\n",
    "    def paint(self, e):\n",
    "        self.c.create_line(self.pre[0], self.pre[1], e.x, e.y, width=self.bs * 3, fill='black', capstyle=ROUND,\n",
    "                           smooth=TRUE)\n",
    "\n",
    "        self.pre = [e.x, e.y]\n",
    "\n",
    "\n",
    "if __name__ == \"__main__\":\n",
    "    root = Tk()\n",
    "    main(root)\n",
    "    root.title('Handwritten Telugu Character Recognition System')\n",
    "    \n",
    "   \n",
    "    root.mainloop()"
   ]
  },
  {
   "cell_type": "code",
   "execution_count": null,
   "id": "d0fa6b5c",
   "metadata": {},
   "outputs": [],
   "source": []
  },
  {
   "cell_type": "code",
   "execution_count": null,
   "id": "de8bac6b",
   "metadata": {},
   "outputs": [],
   "source": []
  },
  {
   "cell_type": "code",
   "execution_count": null,
   "id": "7a4fe950",
   "metadata": {},
   "outputs": [],
   "source": []
  },
  {
   "cell_type": "code",
   "execution_count": null,
   "id": "70526c77",
   "metadata": {},
   "outputs": [],
   "source": []
  },
  {
   "cell_type": "code",
   "execution_count": null,
   "id": "1674616c",
   "metadata": {},
   "outputs": [],
   "source": []
  }
 ],
 "metadata": {
  "kernelspec": {
   "display_name": "Python 3",
   "language": "python",
   "name": "python3"
  },
  "language_info": {
   "codemirror_mode": {
    "name": "ipython",
    "version": 3
   },
   "file_extension": ".py",
   "mimetype": "text/x-python",
   "name": "python",
   "nbconvert_exporter": "python",
   "pygments_lexer": "ipython3",
   "version": "3.8.8"
  }
 },
 "nbformat": 4,
 "nbformat_minor": 5
}
